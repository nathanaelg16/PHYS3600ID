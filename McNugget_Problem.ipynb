{
 "cells": [
  {
   "cell_type": "markdown",
   "metadata": {},
   "source": [
    "# The McNugget Problem (a dynamic programming approach)\n",
    "\n",
    "It used to be the case that you could buy orders of 6, 9, or 20 McNuggets at McDonalds. The McNugget numbers are the positive integers that can be formed by ordering (as many orders as needed) from this limited selection. For example, 24 is a McNugget numbers since 24 = 6 + 6 + 6 + 6.\n",
    "\n",
    "We will show that the largest non-McNugget number is 43. This will be done by showing that 44 to 49 are the first 6 consecutive numbers that are McNugget numbers. Once you have 6 consecutive McNugget numbers you can obtain any larger number by simply adding the appropriate number of orders of size 6 to either 44, 45, ..., 49.\n",
    "\n",
    "Our approach is to use dynamic programming. If $n$ is a positive integer that *is* a McNugget number that is larger than 20, then at least one of $n-6$, $n-9$, or $n-20$ must also be a McNugget number. This means that we can solve the problem for small numbers, record those answers and then reference them as necessary for larger values.\n",
    "\n",
    "Let $L(n)$ be a function over the positive integers such that $L(n)$ is 1 if $n$ is a McNugget number and 0 otherwise. Then $L$ satisfies the relationship that, for $n>20$, $$L(n) = \\max\\{L(n-6),L(n-9),L(n-20)\\}.$$"
   ]
  },
  {
   "cell_type": "code",
   "execution_count": 36,
   "metadata": {},
   "outputs": [],
   "source": [
    "def L(n):\n",
    "    mcnuggets = [-1, 0, 0, 0, 0, 0, 1, 0 , 0, 1, 0, 0, 1, 0, 0, 1, 0, 0, 1, 0, 1]\n",
    "    if n <= 20:\n",
    "        return mcnuggets[n]\n",
    "    else:\n",
    "        for i in range(21,n+1):\n",
    "            mcnuggets.append(max(mcnuggets[i-6],mcnuggets[i-9],mcnuggets[i-20]))\n",
    "    return mcnuggets[-1]"
   ]
  },
  {
   "cell_type": "code",
   "execution_count": 37,
   "metadata": {},
   "outputs": [
    {
     "name": "stdout",
     "output_type": "stream",
     "text": [
      "L(1) = 0\n",
      "L(2) = 0\n",
      "L(3) = 0\n",
      "L(4) = 0\n",
      "L(5) = 0\n",
      "L(6) = 1\n",
      "L(7) = 0\n",
      "L(8) = 0\n",
      "L(9) = 1\n",
      "L(10) = 0\n",
      "L(11) = 0\n",
      "L(12) = 1\n",
      "L(13) = 0\n",
      "L(14) = 0\n",
      "L(15) = 1\n",
      "L(16) = 0\n",
      "L(17) = 0\n",
      "L(18) = 1\n",
      "L(19) = 0\n",
      "L(20) = 1\n",
      "L(21) = 1\n",
      "L(22) = 0\n",
      "L(23) = 0\n",
      "L(24) = 1\n",
      "L(25) = 0\n",
      "L(26) = 1\n",
      "L(27) = 1\n",
      "L(28) = 0\n",
      "L(29) = 1\n",
      "L(30) = 1\n",
      "L(31) = 0\n",
      "L(32) = 1\n",
      "L(33) = 1\n",
      "L(34) = 0\n",
      "L(35) = 1\n",
      "L(36) = 1\n",
      "L(37) = 0\n",
      "L(38) = 1\n",
      "L(39) = 1\n",
      "L(40) = 1\n",
      "L(41) = 1\n",
      "L(42) = 1\n",
      "L(43) = 0\n",
      "L(44) = 1\n",
      "L(45) = 1\n",
      "L(46) = 1\n",
      "L(47) = 1\n",
      "L(48) = 1\n",
      "L(49) = 1\n"
     ]
    }
   ],
   "source": [
    "for n in range(1,50):\n",
    "    print(\"L(\" + str(n) + \") = \" + str(L(n)))"
   ]
  },
  {
   "cell_type": "markdown",
   "metadata": {},
   "source": [
    "The work above gives the desired result."
   ]
  }
 ],
 "metadata": {
  "kernelspec": {
   "display_name": "Python 3",
   "language": "python",
   "name": "python3"
  },
  "language_info": {
   "codemirror_mode": {
    "name": "ipython",
    "version": 3
   },
   "file_extension": ".py",
   "mimetype": "text/x-python",
   "name": "python",
   "nbconvert_exporter": "python",
   "pygments_lexer": "ipython3",
   "version": "3.8.5"
  }
 },
 "nbformat": 4,
 "nbformat_minor": 4
}
